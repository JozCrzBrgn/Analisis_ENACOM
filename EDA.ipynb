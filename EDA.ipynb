{
 "cells": [
  {
   "cell_type": "markdown",
   "id": "d1a31a80-b883-46cb-9c8b-e41c4227b942",
   "metadata": {},
   "source": [
    "# Librerias "
   ]
  },
  {
   "cell_type": "code",
   "execution_count": 1,
   "id": "bec1cf0b-468c-4c8f-beba-17d3e32d2a53",
   "metadata": {},
   "outputs": [
    {
     "name": "stdout",
     "output_type": "stream",
     "text": [
      "Librerias listas.\n"
     ]
    }
   ],
   "source": [
    "import pandas as pd\n",
    "import seaborn as sns\n",
    "print('Librerias listas.')"
   ]
  },
  {
   "cell_type": "markdown",
   "id": "72fe5248-07e7-487c-b3b7-521a195b6ea3",
   "metadata": {},
   "source": [
    "# 1) Acceso a Internet"
   ]
  },
  {
   "cell_type": "markdown",
   "id": "b44a7d96-53d7-490a-9ff0-83a666514a12",
   "metadata": {},
   "source": [
    "## Penetración de Internet fijo (accesos por cada 100 hogares)"
   ]
  },
  {
   "cell_type": "code",
   "execution_count": 96,
   "id": "05c8c324-9be2-44e4-af30-758a9616765d",
   "metadata": {},
   "outputs": [
    {
     "data": {
      "text/html": [
       "<div>\n",
       "<style scoped>\n",
       "    .dataframe tbody tr th:only-of-type {\n",
       "        vertical-align: middle;\n",
       "    }\n",
       "\n",
       "    .dataframe tbody tr th {\n",
       "        vertical-align: top;\n",
       "    }\n",
       "\n",
       "    .dataframe thead th {\n",
       "        text-align: right;\n",
       "    }\n",
       "</style>\n",
       "<table border=\"1\" class=\"dataframe\">\n",
       "  <thead>\n",
       "    <tr style=\"text-align: right;\">\n",
       "      <th></th>\n",
       "      <th>Año</th>\n",
       "      <th>Trimestre</th>\n",
       "      <th>Provincia</th>\n",
       "      <th>Accesos por cada 100 hogares</th>\n",
       "    </tr>\n",
       "  </thead>\n",
       "  <tbody>\n",
       "    <tr>\n",
       "      <th>0</th>\n",
       "      <td>2022</td>\n",
       "      <td>1</td>\n",
       "      <td>Buenos Aires</td>\n",
       "      <td>76,08</td>\n",
       "    </tr>\n",
       "    <tr>\n",
       "      <th>1</th>\n",
       "      <td>2022</td>\n",
       "      <td>1</td>\n",
       "      <td>Capital Federal</td>\n",
       "      <td>111,8</td>\n",
       "    </tr>\n",
       "    <tr>\n",
       "      <th>2</th>\n",
       "      <td>2022</td>\n",
       "      <td>1</td>\n",
       "      <td>Catamarca</td>\n",
       "      <td>58,21</td>\n",
       "    </tr>\n",
       "    <tr>\n",
       "      <th>3</th>\n",
       "      <td>2022</td>\n",
       "      <td>1</td>\n",
       "      <td>Chaco</td>\n",
       "      <td>44,06</td>\n",
       "    </tr>\n",
       "    <tr>\n",
       "      <th>4</th>\n",
       "      <td>2022</td>\n",
       "      <td>1</td>\n",
       "      <td>Chubut</td>\n",
       "      <td>88,05</td>\n",
       "    </tr>\n",
       "  </tbody>\n",
       "</table>\n",
       "</div>"
      ],
      "text/plain": [
       "    Año  Trimestre        Provincia Accesos por cada 100 hogares\n",
       "0  2022          1     Buenos Aires                        76,08\n",
       "1  2022          1  Capital Federal                        111,8\n",
       "2  2022          1        Catamarca                        58,21\n",
       "3  2022          1            Chaco                        44,06\n",
       "4  2022          1           Chubut                        88,05"
      ]
     },
     "execution_count": 96,
     "metadata": {},
     "output_type": "execute_result"
    }
   ],
   "source": [
    "# Extraemos datos de la API\n",
    "MY_API_KEY = 'C98wmDseqmuXTUVe7Z297LQBdUXD0yaqXLXJuSoh'\n",
    "url = 'http://api.datosabiertos.enacom.gob.ar/api/v2/visualizations/PENET-DE-INTER-FIJO-57760/?auth_key=' + MY_API_KEY + '&output=csv'\n",
    "data = pd.read_csv(url)\n",
    "data.head()"
   ]
  },
  {
   "cell_type": "code",
   "execution_count": 97,
   "id": "c5dcca4d-df3f-470d-84f2-2452a9a7ba50",
   "metadata": {},
   "outputs": [
    {
     "data": {
      "text/plain": [
       "<AxesSubplot:>"
      ]
     },
     "execution_count": 97,
     "metadata": {},
     "output_type": "execute_result"
    },
    {
     "data": {
      "image/png": "[encoded data removed]",
      "text/plain": [
       "<Figure size 432x288 with 1 Axes>"
      ]
     },
     "metadata": {
      "needs_background": "light"
     },
     "output_type": "display_data"
    }
   ],
   "source": [
    "# Visualización de valores nulos en el DataFrame\n",
    "sns.heatmap(data.isnull(), yticklabels = False, cbar = False, cmap = 'Blues')"
   ]
  },
  {
   "cell_type": "markdown",
   "id": "a948e619-c848-46bf-a596-d9ade8cefb98",
   "metadata": {},
   "source": [
    "No contiene valores nulos."
   ]
  },
  {
   "cell_type": "code",
   "execution_count": 98,
   "id": "e26e9db8-b65c-4c4b-be86-c5cb1ba5251c",
   "metadata": {},
   "outputs": [
    {
     "data": {
      "text/plain": [
       "Año                              int64\n",
       "Trimestre                        int64\n",
       "Provincia                       object\n",
       "Accesos por cada 100 hogares    object\n",
       "dtype: object"
      ]
     },
     "execution_count": 98,
     "metadata": {},
     "output_type": "execute_result"
    }
   ],
   "source": [
    "# Tipo de variable que tenemos\n",
    "data.dtypes"
   ]
  },
  {
   "cell_type": "markdown",
   "id": "b4a5dce8-fe28-421e-8ef3-3ea922f754ca",
   "metadata": {},
   "source": [
    "La variable 'Accesos por cada 100 hogares' la esta tomando como tipo **object**, debemos corregirla al reemplazar las comas por puntos y pasarla a tipo float."
   ]
  },
  {
   "cell_type": "code",
   "execution_count": 99,
   "id": "5ed79b6e-67b3-4a95-914e-447b302f3630",
   "metadata": {},
   "outputs": [
    {
     "data": {
      "text/html": [
       "<div>\n",
       "<style scoped>\n",
       "    .dataframe tbody tr th:only-of-type {\n",
       "        vertical-align: middle;\n",
       "    }\n",
       "\n",
       "    .dataframe tbody tr th {\n",
       "        vertical-align: top;\n",
       "    }\n",
       "\n",
       "    .dataframe thead th {\n",
       "        text-align: right;\n",
       "    }\n",
       "</style>\n",
       "<table border=\"1\" class=\"dataframe\">\n",
       "  <thead>\n",
       "    <tr style=\"text-align: right;\">\n",
       "      <th></th>\n",
       "      <th>Año</th>\n",
       "      <th>Trimestre</th>\n",
       "      <th>Provincia</th>\n",
       "      <th>Accesos por cada 100 hogares</th>\n",
       "    </tr>\n",
       "  </thead>\n",
       "  <tbody>\n",
       "    <tr>\n",
       "      <th>0</th>\n",
       "      <td>2022</td>\n",
       "      <td>1</td>\n",
       "      <td>Buenos Aires</td>\n",
       "      <td>76.08</td>\n",
       "    </tr>\n",
       "    <tr>\n",
       "      <th>1</th>\n",
       "      <td>2022</td>\n",
       "      <td>1</td>\n",
       "      <td>Capital Federal</td>\n",
       "      <td>111.80</td>\n",
       "    </tr>\n",
       "    <tr>\n",
       "      <th>2</th>\n",
       "      <td>2022</td>\n",
       "      <td>1</td>\n",
       "      <td>Catamarca</td>\n",
       "      <td>58.21</td>\n",
       "    </tr>\n",
       "    <tr>\n",
       "      <th>3</th>\n",
       "      <td>2022</td>\n",
       "      <td>1</td>\n",
       "      <td>Chaco</td>\n",
       "      <td>44.06</td>\n",
       "    </tr>\n",
       "    <tr>\n",
       "      <th>4</th>\n",
       "      <td>2022</td>\n",
       "      <td>1</td>\n",
       "      <td>Chubut</td>\n",
       "      <td>88.05</td>\n",
       "    </tr>\n",
       "  </tbody>\n",
       "</table>\n",
       "</div>"
      ],
      "text/plain": [
       "    Año  Trimestre        Provincia  Accesos por cada 100 hogares\n",
       "0  2022          1     Buenos Aires                         76.08\n",
       "1  2022          1  Capital Federal                        111.80\n",
       "2  2022          1        Catamarca                         58.21\n",
       "3  2022          1            Chaco                         44.06\n",
       "4  2022          1           Chubut                         88.05"
      ]
     },
     "execution_count": 99,
     "metadata": {},
     "output_type": "execute_result"
    }
   ],
   "source": [
    "# Reemplazamos comas por puntos\n",
    "data['Accesos por cada 100 hogares'] = data['Accesos por cada 100 hogares'].str.replace(',', '.')\n",
    "# Cambio de tipo de variables\n",
    "data['Accesos por cada 100 hogares'] = data['Accesos por cada 100 hogares'].astype('float64')\n",
    "data.head()"
   ]
  },
  {
   "cell_type": "code",
   "execution_count": 100,
   "id": "2f5b06b9-bcaf-4935-8475-ed312f93af01",
   "metadata": {},
   "outputs": [
    {
     "data": {
      "text/plain": [
       "Año                               int64\n",
       "Trimestre                         int64\n",
       "Provincia                        object\n",
       "Accesos por cada 100 hogares    float64\n",
       "dtype: object"
      ]
     },
     "execution_count": 100,
     "metadata": {},
     "output_type": "execute_result"
    }
   ],
   "source": [
    "# Tipo de variable corregidas\n",
    "data.dtypes"
   ]
  },
  {
   "cell_type": "markdown",
   "id": "40c94571-5e3f-4cb2-abab-069697939122",
   "metadata": {},
   "source": [
    "Para que los diferentes datasets se relacionen con la variable de 'Provinvia', pasamos sus valores a mayúsculas sin acentos."
   ]
  },
  {
   "cell_type": "code",
   "execution_count": 101,
   "id": "a0acd7d0-1f99-48e5-83ef-39fb4e54f36e",
   "metadata": {},
   "outputs": [
    {
     "data": {
      "text/html": [
       "<div>\n",
       "<style scoped>\n",
       "    .dataframe tbody tr th:only-of-type {\n",
       "        vertical-align: middle;\n",
       "    }\n",
       "\n",
       "    .dataframe tbody tr th {\n",
       "        vertical-align: top;\n",
       "    }\n",
       "\n",
       "    .dataframe thead th {\n",
       "        text-align: right;\n",
       "    }\n",
       "</style>\n",
       "<table border=\"1\" class=\"dataframe\">\n",
       "  <thead>\n",
       "    <tr style=\"text-align: right;\">\n",
       "      <th></th>\n",
       "      <th>Año</th>\n",
       "      <th>Trimestre</th>\n",
       "      <th>Provincia</th>\n",
       "      <th>Accesos por cada 100 hogares</th>\n",
       "    </tr>\n",
       "  </thead>\n",
       "  <tbody>\n",
       "    <tr>\n",
       "      <th>0</th>\n",
       "      <td>2022</td>\n",
       "      <td>1</td>\n",
       "      <td>BUENOS AIRES</td>\n",
       "      <td>76.08</td>\n",
       "    </tr>\n",
       "    <tr>\n",
       "      <th>1</th>\n",
       "      <td>2022</td>\n",
       "      <td>1</td>\n",
       "      <td>CABA</td>\n",
       "      <td>111.80</td>\n",
       "    </tr>\n",
       "    <tr>\n",
       "      <th>2</th>\n",
       "      <td>2022</td>\n",
       "      <td>1</td>\n",
       "      <td>CATAMARCA</td>\n",
       "      <td>58.21</td>\n",
       "    </tr>\n",
       "    <tr>\n",
       "      <th>3</th>\n",
       "      <td>2022</td>\n",
       "      <td>1</td>\n",
       "      <td>CHACO</td>\n",
       "      <td>44.06</td>\n",
       "    </tr>\n",
       "    <tr>\n",
       "      <th>4</th>\n",
       "      <td>2022</td>\n",
       "      <td>1</td>\n",
       "      <td>CHUBUT</td>\n",
       "      <td>88.05</td>\n",
       "    </tr>\n",
       "  </tbody>\n",
       "</table>\n",
       "</div>"
      ],
      "text/plain": [
       "    Año  Trimestre     Provincia  Accesos por cada 100 hogares\n",
       "0  2022          1  BUENOS AIRES                         76.08\n",
       "1  2022          1          CABA                        111.80\n",
       "2  2022          1     CATAMARCA                         58.21\n",
       "3  2022          1         CHACO                         44.06\n",
       "4  2022          1        CHUBUT                         88.05"
      ]
     },
     "execution_count": 101,
     "metadata": {},
     "output_type": "execute_result"
    }
   ],
   "source": [
    "def standarProv(val):\n",
    "    if val == 'Capital Federal':\n",
    "        return 'CABA'\n",
    "    else:\n",
    "        return val.replace(\"á\", \"a\").replace(\"é\", \"e\").replace(\"í\", \"i\").replace(\"ó\", \"o\").replace(\"ú\", \"u\").upper()\n",
    "\n",
    "# Aplicamos la función\n",
    "data['Provincia'] = data['Provincia'].apply(lambda x: standarProv(x))\n",
    "data.head()"
   ]
  },
  {
   "cell_type": "code",
   "execution_count": 102,
   "id": "577c4273-8ec2-4896-95d2-201e0812459c",
   "metadata": {},
   "outputs": [
    {
     "data": {
      "text/plain": [
       "array([[<AxesSubplot:title={'center':'Año'}>,\n",
       "        <AxesSubplot:title={'center':'Trimestre'}>],\n",
       "       [<AxesSubplot:title={'center':'Accesos por cada 100 hogares'}>,\n",
       "        <AxesSubplot:>]], dtype=object)"
      ]
     },
     "execution_count": 102,
     "metadata": {},
     "output_type": "execute_result"
    },
    {
     "data": {
      "image/png": "[encoded data removed]",
      "text/plain": [
       "<Figure size 1800x720 with 4 Axes>"
      ]
     },
     "metadata": {
      "needs_background": "light"
     },
     "output_type": "display_data"
    }
   ],
   "source": [
    "# Análisis rápido de las categorías usando un histograma.\n",
    "data.hist(bins = 50, figsize = (25,10), color = 'b')"
   ]
  },
  {
   "cell_type": "markdown",
   "id": "f9347ce3-622b-4e8e-a64c-853623b46231",
   "metadata": {},
   "source": [
    "**Año**: Vemos que esta columna cuenta con solo un 20% de registros del 2022.\n",
    "\n",
    "**Trimestre**: Esta columna no presenta anomalias tan aparentes.\n",
    "\n",
    "**Accesos por cada 100 hogares**: Presenta una distribución sesgada a la izquierda, con la media de sus valores al rededor del 48%. "
   ]
  },
  {
   "cell_type": "code",
   "execution_count": 103,
   "id": "f95e6844-1634-4769-871a-5a4240cf0a1e",
   "metadata": {},
   "outputs": [
    {
     "data": {
      "text/html": [
       "<div>\n",
       "<style scoped>\n",
       "    .dataframe tbody tr th:only-of-type {\n",
       "        vertical-align: middle;\n",
       "    }\n",
       "\n",
       "    .dataframe tbody tr th {\n",
       "        vertical-align: top;\n",
       "    }\n",
       "\n",
       "    .dataframe thead th {\n",
       "        text-align: right;\n",
       "    }\n",
       "</style>\n",
       "<table border=\"1\" class=\"dataframe\">\n",
       "  <thead>\n",
       "    <tr style=\"text-align: right;\">\n",
       "      <th></th>\n",
       "      <th>Año</th>\n",
       "      <th>Trimestre</th>\n",
       "      <th>Accesos por cada 100 hogares</th>\n",
       "    </tr>\n",
       "  </thead>\n",
       "  <tbody>\n",
       "    <tr>\n",
       "      <th>count</th>\n",
       "      <td>792.000000</td>\n",
       "      <td>792.000000</td>\n",
       "      <td>792.000000</td>\n",
       "    </tr>\n",
       "    <tr>\n",
       "      <th>mean</th>\n",
       "      <td>2017.636364</td>\n",
       "      <td>2.454545</td>\n",
       "      <td>47.907184</td>\n",
       "    </tr>\n",
       "    <tr>\n",
       "      <th>std</th>\n",
       "      <td>2.386030</td>\n",
       "      <td>1.131306</td>\n",
       "      <td>22.810661</td>\n",
       "    </tr>\n",
       "    <tr>\n",
       "      <th>min</th>\n",
       "      <td>2014.000000</td>\n",
       "      <td>1.000000</td>\n",
       "      <td>9.350000</td>\n",
       "    </tr>\n",
       "    <tr>\n",
       "      <th>25%</th>\n",
       "      <td>2016.000000</td>\n",
       "      <td>1.000000</td>\n",
       "      <td>31.540000</td>\n",
       "    </tr>\n",
       "    <tr>\n",
       "      <th>50%</th>\n",
       "      <td>2018.000000</td>\n",
       "      <td>2.000000</td>\n",
       "      <td>44.625000</td>\n",
       "    </tr>\n",
       "    <tr>\n",
       "      <th>75%</th>\n",
       "      <td>2020.000000</td>\n",
       "      <td>3.000000</td>\n",
       "      <td>60.575000</td>\n",
       "    </tr>\n",
       "    <tr>\n",
       "      <th>max</th>\n",
       "      <td>2022.000000</td>\n",
       "      <td>4.000000</td>\n",
       "      <td>124.060000</td>\n",
       "    </tr>\n",
       "  </tbody>\n",
       "</table>\n",
       "</div>"
      ],
      "text/plain": [
       "               Año   Trimestre  Accesos por cada 100 hogares\n",
       "count   792.000000  792.000000                    792.000000\n",
       "mean   2017.636364    2.454545                     47.907184\n",
       "std       2.386030    1.131306                     22.810661\n",
       "min    2014.000000    1.000000                      9.350000\n",
       "25%    2016.000000    1.000000                     31.540000\n",
       "50%    2018.000000    2.000000                     44.625000\n",
       "75%    2020.000000    3.000000                     60.575000\n",
       "max    2022.000000    4.000000                    124.060000"
      ]
     },
     "execution_count": 103,
     "metadata": {},
     "output_type": "execute_result"
    }
   ],
   "source": [
    "# Resumen global de estadisticos:\n",
    "data.describe()"
   ]
  },
  {
   "cell_type": "markdown",
   "id": "6e67adc2-3e53-4a7d-a030-28ff0cb5d411",
   "metadata": {},
   "source": [
    "Observamos que se cuenta con 9 accesos por cada 100 hogares como mínimo y 124 accesos por cada 100 hogares como máximo."
   ]
  },
  {
   "cell_type": "code",
   "execution_count": 104,
   "id": "e357e643-b9c6-4ab4-a0f8-f16371895012",
   "metadata": {},
   "outputs": [
    {
     "name": "stdout",
     "output_type": "stream",
     "text": [
      "Guardado.\n"
     ]
    }
   ],
   "source": [
    "# Guardamos este DataFrame para su analisis en Power BI.\n",
    "data.to_csv('01_Acceso100Hogares.csv', index=False)\n",
    "print('Guardado.')"
   ]
  },
  {
   "cell_type": "markdown",
   "id": "0adde18b-2dd5-418b-b05f-6964356860d2",
   "metadata": {},
   "source": [
    "## Listado de localidades con conectividad a internet."
   ]
  },
  {
   "cell_type": "code",
   "execution_count": 80,
   "id": "4244d77f-6bc9-4649-a2f6-bee88928a55e",
   "metadata": {},
   "outputs": [
    {
     "data": {
      "text/html": [
       "<div>\n",
       "<style scoped>\n",
       "    .dataframe tbody tr th:only-of-type {\n",
       "        vertical-align: middle;\n",
       "    }\n",
       "\n",
       "    .dataframe tbody tr th {\n",
       "        vertical-align: top;\n",
       "    }\n",
       "\n",
       "    .dataframe thead th {\n",
       "        text-align: right;\n",
       "    }\n",
       "</style>\n",
       "<table border=\"1\" class=\"dataframe\">\n",
       "  <thead>\n",
       "    <tr style=\"text-align: right;\">\n",
       "      <th></th>\n",
       "      <th>Provincia</th>\n",
       "      <th>Partido</th>\n",
       "      <th>Localidad</th>\n",
       "      <th>ADSL</th>\n",
       "      <th>CABLEMODEM</th>\n",
       "      <th>DIALUP</th>\n",
       "      <th>FIBRAOPTICA</th>\n",
       "      <th>4G</th>\n",
       "      <th>3G</th>\n",
       "      <th>TELEFONIAFIJA</th>\n",
       "      <th>WIRELESS</th>\n",
       "      <th>SATELITAL</th>\n",
       "    </tr>\n",
       "  </thead>\n",
       "  <tbody>\n",
       "    <tr>\n",
       "      <th>0</th>\n",
       "      <td>BUENOS AIRES</td>\n",
       "      <td>25 de Mayo</td>\n",
       "      <td>25 de Mayo</td>\n",
       "      <td>SI</td>\n",
       "      <td>SI</td>\n",
       "      <td>--</td>\n",
       "      <td>SI</td>\n",
       "      <td>SI</td>\n",
       "      <td>SI</td>\n",
       "      <td>SI</td>\n",
       "      <td>SI</td>\n",
       "      <td>SI</td>\n",
       "    </tr>\n",
       "    <tr>\n",
       "      <th>1</th>\n",
       "      <td>BUENOS AIRES</td>\n",
       "      <td>25 de Mayo</td>\n",
       "      <td>Agustín Mosconi</td>\n",
       "      <td>--</td>\n",
       "      <td>--</td>\n",
       "      <td>--</td>\n",
       "      <td>--</td>\n",
       "      <td>--</td>\n",
       "      <td>--</td>\n",
       "      <td>SI</td>\n",
       "      <td>--</td>\n",
       "      <td>--</td>\n",
       "    </tr>\n",
       "    <tr>\n",
       "      <th>2</th>\n",
       "      <td>BUENOS AIRES</td>\n",
       "      <td>25 de Mayo</td>\n",
       "      <td>Del Valle</td>\n",
       "      <td>SI</td>\n",
       "      <td>--</td>\n",
       "      <td>--</td>\n",
       "      <td>--</td>\n",
       "      <td>SI</td>\n",
       "      <td>SI</td>\n",
       "      <td>--</td>\n",
       "      <td>--</td>\n",
       "      <td>SI</td>\n",
       "    </tr>\n",
       "    <tr>\n",
       "      <th>3</th>\n",
       "      <td>BUENOS AIRES</td>\n",
       "      <td>25 de Mayo</td>\n",
       "      <td>Ernestina</td>\n",
       "      <td>SI</td>\n",
       "      <td>--</td>\n",
       "      <td>--</td>\n",
       "      <td>--</td>\n",
       "      <td>--</td>\n",
       "      <td>--</td>\n",
       "      <td>--</td>\n",
       "      <td>--</td>\n",
       "      <td>--</td>\n",
       "    </tr>\n",
       "    <tr>\n",
       "      <th>4</th>\n",
       "      <td>BUENOS AIRES</td>\n",
       "      <td>25 de Mayo</td>\n",
       "      <td>Gobernador Ugarte</td>\n",
       "      <td>--</td>\n",
       "      <td>--</td>\n",
       "      <td>--</td>\n",
       "      <td>--</td>\n",
       "      <td>--</td>\n",
       "      <td>--</td>\n",
       "      <td>--</td>\n",
       "      <td>SI</td>\n",
       "      <td>--</td>\n",
       "    </tr>\n",
       "  </tbody>\n",
       "</table>\n",
       "</div>"
      ],
      "text/plain": [
       "      Provincia     Partido          Localidad ADSL CABLEMODEM DIALUP  \\\n",
       "0  BUENOS AIRES  25 de Mayo         25 de Mayo   SI         SI     --   \n",
       "1  BUENOS AIRES  25 de Mayo    Agustín Mosconi   --         --     --   \n",
       "2  BUENOS AIRES  25 de Mayo          Del Valle   SI         --     --   \n",
       "3  BUENOS AIRES  25 de Mayo          Ernestina   SI         --     --   \n",
       "4  BUENOS AIRES  25 de Mayo  Gobernador Ugarte   --         --     --   \n",
       "\n",
       "  FIBRAOPTICA  4G  3G TELEFONIAFIJA WIRELESS SATELITAL  \n",
       "0          SI  SI  SI            SI       SI        SI  \n",
       "1          --  --  --            SI       --        --  \n",
       "2          --  SI  SI            --       --        SI  \n",
       "3          --  --  --            --       --        --  \n",
       "4          --  --  --            --       SI        --  "
      ]
     },
     "execution_count": 80,
     "metadata": {},
     "output_type": "execute_result"
    }
   ],
   "source": [
    "# Extraemos datos de la API\n",
    "MY_API_KEY = 'C98wmDseqmuXTUVe7Z297LQBdUXD0yaqXLXJuSoh'\n",
    "url = 'http://api.datosabiertos.enacom.gob.ar/api/v2/datastreams/LISTA-DE-LOCAL-CON-CONEC/data.csv/?auth_key=' + MY_API_KEY\n",
    "data = pd.read_csv(url)\n",
    "data.head()"
   ]
  },
  {
   "cell_type": "code",
   "execution_count": 81,
   "id": "e7bd94dd-7cf0-4257-8973-8c1657876938",
   "metadata": {},
   "outputs": [
    {
     "data": {
      "text/plain": [
       "<AxesSubplot:>"
      ]
     },
     "execution_count": 81,
     "metadata": {},
     "output_type": "execute_result"
    },
    {
     "data": {
      "image/png": "[encoded data removed]",
      "text/plain": [
       "<Figure size 432x288 with 1 Axes>"
      ]
     },
     "metadata": {
      "needs_background": "light"
     },
     "output_type": "display_data"
    }
   ],
   "source": [
    "# Visualización de valores nulos en el DataFrame\n",
    "sns.heatmap(data.isnull(), yticklabels = False, cbar = False, cmap = 'Blues')"
   ]
  },
  {
   "cell_type": "markdown",
   "id": "d855ecdc-2b99-4315-9674-f2b32427a1fa",
   "metadata": {},
   "source": [
    "No contiene valores nulos."
   ]
  },
  {
   "cell_type": "code",
   "execution_count": 82,
   "id": "7a76a8d5-64fa-4f1d-afd6-32959f39715a",
   "metadata": {},
   "outputs": [
    {
     "data": {
      "text/plain": [
       "Provincia        object\n",
       "Partido          object\n",
       "Localidad        object\n",
       "ADSL             object\n",
       "CABLEMODEM       object\n",
       "DIALUP           object\n",
       "FIBRAOPTICA      object\n",
       "4G               object\n",
       "3G               object\n",
       "TELEFONIAFIJA    object\n",
       "WIRELESS         object\n",
       "SATELITAL        object\n",
       "dtype: object"
      ]
     },
     "execution_count": 82,
     "metadata": {},
     "output_type": "execute_result"
    }
   ],
   "source": [
    "# Tipo de variable que tenemos\n",
    "data.dtypes"
   ]
  },
  {
   "cell_type": "markdown",
   "id": "e5af1c17-5e8b-4697-bb0e-05796fb498aa",
   "metadata": {},
   "source": [
    "Las variables 'ADSL', 'CABLEMODEM', 'DIALUP', 'FIBRAOPTICA', '4G', '3G', 'TELEFONIAFIJA', 'WIRELESS' y 'SATELITAL' las esta tomando como tipo **object**. Pasarémos estas variables a valores binarios de tipo **int64**."
   ]
  },
  {
   "cell_type": "code",
   "execution_count": 83,
   "id": "17f52dfb-db92-476a-b32b-9191c7b4d496",
   "metadata": {},
   "outputs": [
    {
     "data": {
      "text/html": [
       "<div>\n",
       "<style scoped>\n",
       "    .dataframe tbody tr th:only-of-type {\n",
       "        vertical-align: middle;\n",
       "    }\n",
       "\n",
       "    .dataframe tbody tr th {\n",
       "        vertical-align: top;\n",
       "    }\n",
       "\n",
       "    .dataframe thead th {\n",
       "        text-align: right;\n",
       "    }\n",
       "</style>\n",
       "<table border=\"1\" class=\"dataframe\">\n",
       "  <thead>\n",
       "    <tr style=\"text-align: right;\">\n",
       "      <th></th>\n",
       "      <th>Provincia</th>\n",
       "      <th>Partido</th>\n",
       "      <th>Localidad</th>\n",
       "      <th>ADSL</th>\n",
       "      <th>CABLEMODEM</th>\n",
       "      <th>DIALUP</th>\n",
       "      <th>FIBRAOPTICA</th>\n",
       "      <th>4G</th>\n",
       "      <th>3G</th>\n",
       "      <th>TELEFONIAFIJA</th>\n",
       "      <th>WIRELESS</th>\n",
       "      <th>SATELITAL</th>\n",
       "    </tr>\n",
       "  </thead>\n",
       "  <tbody>\n",
       "    <tr>\n",
       "      <th>0</th>\n",
       "      <td>BUENOS AIRES</td>\n",
       "      <td>25 de Mayo</td>\n",
       "      <td>25 de Mayo</td>\n",
       "      <td>1</td>\n",
       "      <td>1</td>\n",
       "      <td>0</td>\n",
       "      <td>1</td>\n",
       "      <td>1</td>\n",
       "      <td>1</td>\n",
       "      <td>1</td>\n",
       "      <td>1</td>\n",
       "      <td>1</td>\n",
       "    </tr>\n",
       "    <tr>\n",
       "      <th>1</th>\n",
       "      <td>BUENOS AIRES</td>\n",
       "      <td>25 de Mayo</td>\n",
       "      <td>Agustín Mosconi</td>\n",
       "      <td>0</td>\n",
       "      <td>0</td>\n",
       "      <td>0</td>\n",
       "      <td>0</td>\n",
       "      <td>0</td>\n",
       "      <td>0</td>\n",
       "      <td>1</td>\n",
       "      <td>0</td>\n",
       "      <td>0</td>\n",
       "    </tr>\n",
       "    <tr>\n",
       "      <th>2</th>\n",
       "      <td>BUENOS AIRES</td>\n",
       "      <td>25 de Mayo</td>\n",
       "      <td>Del Valle</td>\n",
       "      <td>1</td>\n",
       "      <td>0</td>\n",
       "      <td>0</td>\n",
       "      <td>0</td>\n",
       "      <td>1</td>\n",
       "      <td>1</td>\n",
       "      <td>0</td>\n",
       "      <td>0</td>\n",
       "      <td>1</td>\n",
       "    </tr>\n",
       "    <tr>\n",
       "      <th>3</th>\n",
       "      <td>BUENOS AIRES</td>\n",
       "      <td>25 de Mayo</td>\n",
       "      <td>Ernestina</td>\n",
       "      <td>1</td>\n",
       "      <td>0</td>\n",
       "      <td>0</td>\n",
       "      <td>0</td>\n",
       "      <td>0</td>\n",
       "      <td>0</td>\n",
       "      <td>0</td>\n",
       "      <td>0</td>\n",
       "      <td>0</td>\n",
       "    </tr>\n",
       "    <tr>\n",
       "      <th>4</th>\n",
       "      <td>BUENOS AIRES</td>\n",
       "      <td>25 de Mayo</td>\n",
       "      <td>Gobernador Ugarte</td>\n",
       "      <td>0</td>\n",
       "      <td>0</td>\n",
       "      <td>0</td>\n",
       "      <td>0</td>\n",
       "      <td>0</td>\n",
       "      <td>0</td>\n",
       "      <td>0</td>\n",
       "      <td>1</td>\n",
       "      <td>0</td>\n",
       "    </tr>\n",
       "  </tbody>\n",
       "</table>\n",
       "</div>"
      ],
      "text/plain": [
       "      Provincia     Partido          Localidad  ADSL  CABLEMODEM  DIALUP  \\\n",
       "0  BUENOS AIRES  25 de Mayo         25 de Mayo     1           1       0   \n",
       "1  BUENOS AIRES  25 de Mayo    Agustín Mosconi     0           0       0   \n",
       "2  BUENOS AIRES  25 de Mayo          Del Valle     1           0       0   \n",
       "3  BUENOS AIRES  25 de Mayo          Ernestina     1           0       0   \n",
       "4  BUENOS AIRES  25 de Mayo  Gobernador Ugarte     0           0       0   \n",
       "\n",
       "   FIBRAOPTICA  4G  3G  TELEFONIAFIJA  WIRELESS  SATELITAL  \n",
       "0            1   1   1              1         1          1  \n",
       "1            0   0   0              1         0          0  \n",
       "2            0   1   1              0         0          1  \n",
       "3            0   0   0              0         0          0  \n",
       "4            0   0   0              0         1          0  "
      ]
     },
     "execution_count": 83,
     "metadata": {},
     "output_type": "execute_result"
    }
   ],
   "source": [
    "# Tomamos las columnas anteriormente mencionadas en un nuevo DataFrame. \n",
    "# Reemplazamos sus valores, '--' => 0\n",
    "df = data[['ADSL', 'CABLEMODEM', 'DIALUP', 'FIBRAOPTICA', '4G', '3G', 'TELEFONIAFIJA', 'WIRELESS', 'SATELITAL']].replace('--', 0)\n",
    "# Reemplazamos sus valores, 'SI' => 1\n",
    "df = df.replace('SI', 1)\n",
    "# Eliminamos esas columnas del DataFrame original\n",
    "data.drop(['ADSL', 'CABLEMODEM', 'DIALUP', 'FIBRAOPTICA', '4G', '3G', 'TELEFONIAFIJA', 'WIRELESS', 'SATELITAL'], axis=1, inplace=True)\n",
    "# Concatenamos ambos DataFrames\n",
    "data = pd.concat([data, df], axis = 1)\n",
    "data.head()"
   ]
  },
  {
   "cell_type": "code",
   "execution_count": 84,
   "id": "71c2ec35-e2ff-42ab-ba65-39dfcd199586",
   "metadata": {},
   "outputs": [
    {
     "data": {
      "text/plain": [
       "Provincia        object\n",
       "Partido          object\n",
       "Localidad        object\n",
       "ADSL              int64\n",
       "CABLEMODEM        int64\n",
       "DIALUP            int64\n",
       "FIBRAOPTICA       int64\n",
       "4G                int64\n",
       "3G                int64\n",
       "TELEFONIAFIJA     int64\n",
       "WIRELESS          int64\n",
       "SATELITAL         int64\n",
       "dtype: object"
      ]
     },
     "execution_count": 84,
     "metadata": {},
     "output_type": "execute_result"
    }
   ],
   "source": [
    "# Tipo de variable corregidas\n",
    "data.dtypes"
   ]
  },
  {
   "cell_type": "code",
   "execution_count": 85,
   "id": "f3658306-40b5-4c90-b95f-a0d258d5f56c",
   "metadata": {},
   "outputs": [
    {
     "data": {
      "text/plain": [
       "array([[<AxesSubplot:title={'center':'ADSL'}>,\n",
       "        <AxesSubplot:title={'center':'CABLEMODEM'}>,\n",
       "        <AxesSubplot:title={'center':'DIALUP'}>],\n",
       "       [<AxesSubplot:title={'center':'FIBRAOPTICA'}>,\n",
       "        <AxesSubplot:title={'center':'4G'}>,\n",
       "        <AxesSubplot:title={'center':'3G'}>],\n",
       "       [<AxesSubplot:title={'center':'TELEFONIAFIJA'}>,\n",
       "        <AxesSubplot:title={'center':'WIRELESS'}>,\n",
       "        <AxesSubplot:title={'center':'SATELITAL'}>]], dtype=object)"
      ]
     },
     "execution_count": 85,
     "metadata": {},
     "output_type": "execute_result"
    },
    {
     "data": {
      "image/png": "[encoded data removed]",
      "text/plain": [
       "<Figure size 1800x720 with 9 Axes>"
      ]
     },
     "metadata": {
      "needs_background": "light"
     },
     "output_type": "display_data"
    }
   ],
   "source": [
    "# Análisis rápido de las categorías usando un histograma.\n",
    "data.hist(bins = 50, figsize = (25,10), color = 'b')"
   ]
  },
  {
   "cell_type": "markdown",
   "id": "bf75a910-7591-4576-90fe-0c643fbb86a0",
   "metadata": {},
   "source": [
    "Como era de esperarse todas las gráficas son bimodales."
   ]
  },
  {
   "cell_type": "code",
   "execution_count": 86,
   "id": "c73c210e-b105-4fd6-ba9d-926df5f4b1d1",
   "metadata": {},
   "outputs": [
    {
     "data": {
      "text/html": [
       "<div>\n",
       "<style scoped>\n",
       "    .dataframe tbody tr th:only-of-type {\n",
       "        vertical-align: middle;\n",
       "    }\n",
       "\n",
       "    .dataframe tbody tr th {\n",
       "        vertical-align: top;\n",
       "    }\n",
       "\n",
       "    .dataframe thead th {\n",
       "        text-align: right;\n",
       "    }\n",
       "</style>\n",
       "<table border=\"1\" class=\"dataframe\">\n",
       "  <thead>\n",
       "    <tr style=\"text-align: right;\">\n",
       "      <th></th>\n",
       "      <th>ADSL</th>\n",
       "      <th>CABLEMODEM</th>\n",
       "      <th>DIALUP</th>\n",
       "      <th>FIBRAOPTICA</th>\n",
       "      <th>4G</th>\n",
       "      <th>3G</th>\n",
       "      <th>TELEFONIAFIJA</th>\n",
       "      <th>WIRELESS</th>\n",
       "      <th>SATELITAL</th>\n",
       "    </tr>\n",
       "  </thead>\n",
       "  <tbody>\n",
       "    <tr>\n",
       "      <th>count</th>\n",
       "      <td>4312.000000</td>\n",
       "      <td>4312.000000</td>\n",
       "      <td>4312.000000</td>\n",
       "      <td>4312.000000</td>\n",
       "      <td>4312.000000</td>\n",
       "      <td>4312.000000</td>\n",
       "      <td>4312.000000</td>\n",
       "      <td>4312.000000</td>\n",
       "      <td>4312.000000</td>\n",
       "    </tr>\n",
       "    <tr>\n",
       "      <th>mean</th>\n",
       "      <td>0.266466</td>\n",
       "      <td>0.197356</td>\n",
       "      <td>0.091837</td>\n",
       "      <td>0.306354</td>\n",
       "      <td>0.596939</td>\n",
       "      <td>0.435993</td>\n",
       "      <td>0.483766</td>\n",
       "      <td>0.497449</td>\n",
       "      <td>0.231447</td>\n",
       "    </tr>\n",
       "    <tr>\n",
       "      <th>std</th>\n",
       "      <td>0.442162</td>\n",
       "      <td>0.398050</td>\n",
       "      <td>0.288829</td>\n",
       "      <td>0.461032</td>\n",
       "      <td>0.490570</td>\n",
       "      <td>0.495944</td>\n",
       "      <td>0.499794</td>\n",
       "      <td>0.500051</td>\n",
       "      <td>0.421806</td>\n",
       "    </tr>\n",
       "    <tr>\n",
       "      <th>min</th>\n",
       "      <td>0.000000</td>\n",
       "      <td>0.000000</td>\n",
       "      <td>0.000000</td>\n",
       "      <td>0.000000</td>\n",
       "      <td>0.000000</td>\n",
       "      <td>0.000000</td>\n",
       "      <td>0.000000</td>\n",
       "      <td>0.000000</td>\n",
       "      <td>0.000000</td>\n",
       "    </tr>\n",
       "    <tr>\n",
       "      <th>25%</th>\n",
       "      <td>0.000000</td>\n",
       "      <td>0.000000</td>\n",
       "      <td>0.000000</td>\n",
       "      <td>0.000000</td>\n",
       "      <td>0.000000</td>\n",
       "      <td>0.000000</td>\n",
       "      <td>0.000000</td>\n",
       "      <td>0.000000</td>\n",
       "      <td>0.000000</td>\n",
       "    </tr>\n",
       "    <tr>\n",
       "      <th>50%</th>\n",
       "      <td>0.000000</td>\n",
       "      <td>0.000000</td>\n",
       "      <td>0.000000</td>\n",
       "      <td>0.000000</td>\n",
       "      <td>1.000000</td>\n",
       "      <td>0.000000</td>\n",
       "      <td>0.000000</td>\n",
       "      <td>0.000000</td>\n",
       "      <td>0.000000</td>\n",
       "    </tr>\n",
       "    <tr>\n",
       "      <th>75%</th>\n",
       "      <td>1.000000</td>\n",
       "      <td>0.000000</td>\n",
       "      <td>0.000000</td>\n",
       "      <td>1.000000</td>\n",
       "      <td>1.000000</td>\n",
       "      <td>1.000000</td>\n",
       "      <td>1.000000</td>\n",
       "      <td>1.000000</td>\n",
       "      <td>0.000000</td>\n",
       "    </tr>\n",
       "    <tr>\n",
       "      <th>max</th>\n",
       "      <td>1.000000</td>\n",
       "      <td>1.000000</td>\n",
       "      <td>1.000000</td>\n",
       "      <td>1.000000</td>\n",
       "      <td>1.000000</td>\n",
       "      <td>1.000000</td>\n",
       "      <td>1.000000</td>\n",
       "      <td>1.000000</td>\n",
       "      <td>1.000000</td>\n",
       "    </tr>\n",
       "  </tbody>\n",
       "</table>\n",
       "</div>"
      ],
      "text/plain": [
       "              ADSL   CABLEMODEM       DIALUP  FIBRAOPTICA           4G  \\\n",
       "count  4312.000000  4312.000000  4312.000000  4312.000000  4312.000000   \n",
       "mean      0.266466     0.197356     0.091837     0.306354     0.596939   \n",
       "std       0.442162     0.398050     0.288829     0.461032     0.490570   \n",
       "min       0.000000     0.000000     0.000000     0.000000     0.000000   \n",
       "25%       0.000000     0.000000     0.000000     0.000000     0.000000   \n",
       "50%       0.000000     0.000000     0.000000     0.000000     1.000000   \n",
       "75%       1.000000     0.000000     0.000000     1.000000     1.000000   \n",
       "max       1.000000     1.000000     1.000000     1.000000     1.000000   \n",
       "\n",
       "                3G  TELEFONIAFIJA     WIRELESS    SATELITAL  \n",
       "count  4312.000000    4312.000000  4312.000000  4312.000000  \n",
       "mean      0.435993       0.483766     0.497449     0.231447  \n",
       "std       0.495944       0.499794     0.500051     0.421806  \n",
       "min       0.000000       0.000000     0.000000     0.000000  \n",
       "25%       0.000000       0.000000     0.000000     0.000000  \n",
       "50%       0.000000       0.000000     0.000000     0.000000  \n",
       "75%       1.000000       1.000000     1.000000     0.000000  \n",
       "max       1.000000       1.000000     1.000000     1.000000  "
      ]
     },
     "execution_count": 86,
     "metadata": {},
     "output_type": "execute_result"
    }
   ],
   "source": [
    "# Resumen global de estadisticos:\n",
    "data.describe()"
   ]
  },
  {
   "cell_type": "markdown",
   "id": "e8194a13-e7ea-4725-b298-fa9ea1bfdc2d",
   "metadata": {},
   "source": [
    "Si nos centramos solo en la media, las localidades tienen como principal conectividad a internet a:\n",
    "\n",
    "* 4G con un 59.7%\n",
    "* WIRELESS con un 49.8%\n",
    "* TELEFONIAFIJA con un 48.4%"
   ]
  },
  {
   "cell_type": "code",
   "execution_count": 87,
   "id": "94c3b0b0-6d0e-4470-ba89-40804e033536",
   "metadata": {},
   "outputs": [
    {
     "name": "stdout",
     "output_type": "stream",
     "text": [
      "Guardado.\n"
     ]
    }
   ],
   "source": [
    "# Guardamos este DataFrame para su analisis en Power BI.\n",
    "data.to_csv('02_LocConectInter.csv', index=False)\n",
    "print('Guardado.')"
   ]
  },
  {
   "cell_type": "markdown",
   "id": "a0e95be4-506d-4b75-8db3-d89bfbbefcbf",
   "metadata": {},
   "source": [
    "## Velocidad Media de bajada de Internet fijo"
   ]
  },
  {
   "cell_type": "code",
   "execution_count": 88,
   "id": "c3946f87-cd62-49a4-a9fd-05ed38af67ae",
   "metadata": {},
   "outputs": [
    {
     "data": {
      "text/html": [
       "<div>\n",
       "<style scoped>\n",
       "    .dataframe tbody tr th:only-of-type {\n",
       "        vertical-align: middle;\n",
       "    }\n",
       "\n",
       "    .dataframe tbody tr th {\n",
       "        vertical-align: top;\n",
       "    }\n",
       "\n",
       "    .dataframe thead th {\n",
       "        text-align: right;\n",
       "    }\n",
       "</style>\n",
       "<table border=\"1\" class=\"dataframe\">\n",
       "  <thead>\n",
       "    <tr style=\"text-align: right;\">\n",
       "      <th></th>\n",
       "      <th>Año</th>\n",
       "      <th>Trimestre</th>\n",
       "      <th>Mbps (Media de bajada)</th>\n",
       "      <th>Trimestre.1</th>\n",
       "    </tr>\n",
       "  </thead>\n",
       "  <tbody>\n",
       "    <tr>\n",
       "      <th>0</th>\n",
       "      <td>2022</td>\n",
       "      <td>1</td>\n",
       "      <td>55,11</td>\n",
       "      <td>Ene-Mar 2022</td>\n",
       "    </tr>\n",
       "    <tr>\n",
       "      <th>1</th>\n",
       "      <td>2021</td>\n",
       "      <td>4</td>\n",
       "      <td>52,34</td>\n",
       "      <td>Oct-Dic 2021</td>\n",
       "    </tr>\n",
       "    <tr>\n",
       "      <th>2</th>\n",
       "      <td>2021</td>\n",
       "      <td>3</td>\n",
       "      <td>48,46</td>\n",
       "      <td>Jul-Sept 2021</td>\n",
       "    </tr>\n",
       "    <tr>\n",
       "      <th>3</th>\n",
       "      <td>2021</td>\n",
       "      <td>2</td>\n",
       "      <td>45,63</td>\n",
       "      <td>Abr-Jun 2021</td>\n",
       "    </tr>\n",
       "    <tr>\n",
       "      <th>4</th>\n",
       "      <td>2021</td>\n",
       "      <td>1</td>\n",
       "      <td>43,11</td>\n",
       "      <td>Ene-Mar 2021</td>\n",
       "    </tr>\n",
       "  </tbody>\n",
       "</table>\n",
       "</div>"
      ],
      "text/plain": [
       "    Año  Trimestre Mbps (Media de bajada)    Trimestre.1\n",
       "0  2022          1                  55,11   Ene-Mar 2022\n",
       "1  2021          4                  52,34   Oct-Dic 2021\n",
       "2  2021          3                  48,46  Jul-Sept 2021\n",
       "3  2021          2                  45,63   Abr-Jun 2021\n",
       "4  2021          1                  43,11   Ene-Mar 2021"
      ]
     },
     "execution_count": 88,
     "metadata": {},
     "output_type": "execute_result"
    }
   ],
   "source": [
    "# Extraemos datos de la API\n",
    "MY_API_KEY = 'C98wmDseqmuXTUVe7Z297LQBdUXD0yaqXLXJuSoh'\n",
    "url = 'http://api.datosabiertos.enacom.gob.ar/api/v2/visualizations/VELOC-PROME-DE-BAJAD-DE/?auth_key=' + MY_API_KEY + '&output=csv'\n",
    "data = pd.read_csv(url)\n",
    "data.head()"
   ]
  },
  {
   "cell_type": "code",
   "execution_count": 89,
   "id": "2b63222f-38f3-4e69-a166-b114f7f7a796",
   "metadata": {},
   "outputs": [
    {
     "data": {
      "text/plain": [
       "<AxesSubplot:>"
      ]
     },
     "execution_count": 89,
     "metadata": {},
     "output_type": "execute_result"
    },
    {
     "data": {
      "image/png": "[encoded data removed]",
      "text/plain": [
       "<Figure size 432x288 with 1 Axes>"
      ]
     },
     "metadata": {
      "needs_background": "light"
     },
     "output_type": "display_data"
    }
   ],
   "source": [
    "# Visualización de valores nulos en el DataFrame\n",
    "sns.heatmap(data.isnull(), yticklabels = False, cbar = False, cmap = 'Blues')"
   ]
  },
  {
   "cell_type": "markdown",
   "id": "e9e9f34a-d318-4e56-83b5-1dd9aceffa3b",
   "metadata": {},
   "source": [
    "No contiene valores nulos."
   ]
  },
  {
   "cell_type": "code",
   "execution_count": 90,
   "id": "7e44f7b3-ed5f-4123-bb51-c648fc22ffef",
   "metadata": {},
   "outputs": [
    {
     "data": {
      "text/plain": [
       "Año                        int64\n",
       "Trimestre                  int64\n",
       "Mbps (Media de bajada)    object\n",
       "Trimestre.1               object\n",
       "dtype: object"
      ]
     },
     "execution_count": 90,
     "metadata": {},
     "output_type": "execute_result"
    }
   ],
   "source": [
    "# Tipo de variable que tenemos\n",
    "data.dtypes"
   ]
  },
  {
   "cell_type": "markdown",
   "id": "c74a3a65-ec9f-4021-8df1-16385a124356",
   "metadata": {},
   "source": [
    "La variable de 'Mbps (Media de bajada)' la esta tomando como tipo **object**, por lo tanto debemos corregir su formato y reemplazar las ',' por '.' para tenerla en formato **float64** . La columna 'Trimestre.1' se eliminará ya que es combinación de las columnas 'Año' y 'Trimestre'."
   ]
  },
  {
   "cell_type": "code",
   "execution_count": 91,
   "id": "72697a7f-6210-497d-8968-c85997dd24bf",
   "metadata": {},
   "outputs": [
    {
     "data": {
      "text/html": [
       "<div>\n",
       "<style scoped>\n",
       "    .dataframe tbody tr th:only-of-type {\n",
       "        vertical-align: middle;\n",
       "    }\n",
       "\n",
       "    .dataframe tbody tr th {\n",
       "        vertical-align: top;\n",
       "    }\n",
       "\n",
       "    .dataframe thead th {\n",
       "        text-align: right;\n",
       "    }\n",
       "</style>\n",
       "<table border=\"1\" class=\"dataframe\">\n",
       "  <thead>\n",
       "    <tr style=\"text-align: right;\">\n",
       "      <th></th>\n",
       "      <th>Año</th>\n",
       "      <th>Trimestre</th>\n",
       "      <th>Mbps (Media de bajada)</th>\n",
       "    </tr>\n",
       "  </thead>\n",
       "  <tbody>\n",
       "    <tr>\n",
       "      <th>0</th>\n",
       "      <td>2022</td>\n",
       "      <td>1</td>\n",
       "      <td>55.11</td>\n",
       "    </tr>\n",
       "    <tr>\n",
       "      <th>1</th>\n",
       "      <td>2021</td>\n",
       "      <td>4</td>\n",
       "      <td>52.34</td>\n",
       "    </tr>\n",
       "    <tr>\n",
       "      <th>2</th>\n",
       "      <td>2021</td>\n",
       "      <td>3</td>\n",
       "      <td>48.46</td>\n",
       "    </tr>\n",
       "    <tr>\n",
       "      <th>3</th>\n",
       "      <td>2021</td>\n",
       "      <td>2</td>\n",
       "      <td>45.63</td>\n",
       "    </tr>\n",
       "    <tr>\n",
       "      <th>4</th>\n",
       "      <td>2021</td>\n",
       "      <td>1</td>\n",
       "      <td>43.11</td>\n",
       "    </tr>\n",
       "  </tbody>\n",
       "</table>\n",
       "</div>"
      ],
      "text/plain": [
       "    Año  Trimestre  Mbps (Media de bajada)\n",
       "0  2022          1                   55.11\n",
       "1  2021          4                   52.34\n",
       "2  2021          3                   48.46\n",
       "3  2021          2                   45.63\n",
       "4  2021          1                   43.11"
      ]
     },
     "execution_count": 91,
     "metadata": {},
     "output_type": "execute_result"
    }
   ],
   "source": [
    "# Reemplazamos comas por puntos\n",
    "data['Mbps (Media de bajada)'] = data['Mbps (Media de bajada)'].str.replace(',', '.')\n",
    "# Cambio de tipo de variables\n",
    "data['Mbps (Media de bajada)'] = data['Mbps (Media de bajada)'].astype('float64')\n",
    "# Eliminamos la columna 'Trimestre.1' \n",
    "data.drop(['Trimestre.1'], axis=1, inplace=True)\n",
    "data.head()"
   ]
  },
  {
   "cell_type": "code",
   "execution_count": 92,
   "id": "c54dc41c-f203-4a04-a3c6-8f461467bbaa",
   "metadata": {},
   "outputs": [
    {
     "data": {
      "text/plain": [
       "Año                         int64\n",
       "Trimestre                   int64\n",
       "Mbps (Media de bajada)    float64\n",
       "dtype: object"
      ]
     },
     "execution_count": 92,
     "metadata": {},
     "output_type": "execute_result"
    }
   ],
   "source": [
    "# Tipo de variable corregidas\n",
    "data.dtypes"
   ]
  },
  {
   "cell_type": "code",
   "execution_count": 93,
   "id": "6dba0b7f-2671-4b5d-863f-187084268465",
   "metadata": {},
   "outputs": [
    {
     "data": {
      "text/plain": [
       "array([[<AxesSubplot:title={'center':'Año'}>,\n",
       "        <AxesSubplot:title={'center':'Trimestre'}>],\n",
       "       [<AxesSubplot:title={'center':'Mbps (Media de bajada)'}>,\n",
       "        <AxesSubplot:>]], dtype=object)"
      ]
     },
     "execution_count": 93,
     "metadata": {},
     "output_type": "execute_result"
    },
    {
     "data": {
      "image/png": "[encoded data removed]",
      "text/plain": [
       "<Figure size 1800x720 with 4 Axes>"
      ]
     },
     "metadata": {
      "needs_background": "light"
     },
     "output_type": "display_data"
    }
   ],
   "source": [
    "# Análisis rápido de las categorías usando un histograma.\n",
    "data.hist(bins = 50, figsize = (25,10), color = 'b')"
   ]
  },
  {
   "cell_type": "markdown",
   "id": "93030059-f33f-49d2-b96f-1d1c9ad8af29",
   "metadata": {},
   "source": [
    "**Año**: Vemos que esta columna cuenta con solo un 25% de registros del 2022.\n",
    "\n",
    "**Trimestre**: Esta columna no presenta anomalias tan aparentes.\n",
    "\n",
    "**Mbps (Media de bajada)**: Presenta una distribución sesgada a la izquierda de cola larga, con la media de sus valores al rededor de 19.5 Mbps. "
   ]
  },
  {
   "cell_type": "code",
   "execution_count": 94,
   "id": "a32e5689-114c-415e-a01c-9b6535b54c62",
   "metadata": {},
   "outputs": [
    {
     "data": {
      "text/html": [
       "<div>\n",
       "<style scoped>\n",
       "    .dataframe tbody tr th:only-of-type {\n",
       "        vertical-align: middle;\n",
       "    }\n",
       "\n",
       "    .dataframe tbody tr th {\n",
       "        vertical-align: top;\n",
       "    }\n",
       "\n",
       "    .dataframe thead th {\n",
       "        text-align: right;\n",
       "    }\n",
       "</style>\n",
       "<table border=\"1\" class=\"dataframe\">\n",
       "  <thead>\n",
       "    <tr style=\"text-align: right;\">\n",
       "      <th></th>\n",
       "      <th>Año</th>\n",
       "      <th>Trimestre</th>\n",
       "      <th>Mbps (Media de bajada)</th>\n",
       "    </tr>\n",
       "  </thead>\n",
       "  <tbody>\n",
       "    <tr>\n",
       "      <th>count</th>\n",
       "      <td>33.000000</td>\n",
       "      <td>33.000000</td>\n",
       "      <td>33.000000</td>\n",
       "    </tr>\n",
       "    <tr>\n",
       "      <th>mean</th>\n",
       "      <td>2017.636364</td>\n",
       "      <td>2.454545</td>\n",
       "      <td>19.486364</td>\n",
       "    </tr>\n",
       "    <tr>\n",
       "      <th>std</th>\n",
       "      <td>2.421495</td>\n",
       "      <td>1.148121</td>\n",
       "      <td>17.140551</td>\n",
       "    </tr>\n",
       "    <tr>\n",
       "      <th>min</th>\n",
       "      <td>2014.000000</td>\n",
       "      <td>1.000000</td>\n",
       "      <td>3.620000</td>\n",
       "    </tr>\n",
       "    <tr>\n",
       "      <th>25%</th>\n",
       "      <td>2016.000000</td>\n",
       "      <td>1.000000</td>\n",
       "      <td>5.080000</td>\n",
       "    </tr>\n",
       "    <tr>\n",
       "      <th>50%</th>\n",
       "      <td>2018.000000</td>\n",
       "      <td>2.000000</td>\n",
       "      <td>13.220000</td>\n",
       "    </tr>\n",
       "    <tr>\n",
       "      <th>75%</th>\n",
       "      <td>2020.000000</td>\n",
       "      <td>3.000000</td>\n",
       "      <td>37.520000</td>\n",
       "    </tr>\n",
       "    <tr>\n",
       "      <th>max</th>\n",
       "      <td>2022.000000</td>\n",
       "      <td>4.000000</td>\n",
       "      <td>55.110000</td>\n",
       "    </tr>\n",
       "  </tbody>\n",
       "</table>\n",
       "</div>"
      ],
      "text/plain": [
       "               Año  Trimestre  Mbps (Media de bajada)\n",
       "count    33.000000  33.000000               33.000000\n",
       "mean   2017.636364   2.454545               19.486364\n",
       "std       2.421495   1.148121               17.140551\n",
       "min    2014.000000   1.000000                3.620000\n",
       "25%    2016.000000   1.000000                5.080000\n",
       "50%    2018.000000   2.000000               13.220000\n",
       "75%    2020.000000   3.000000               37.520000\n",
       "max    2022.000000   4.000000               55.110000"
      ]
     },
     "execution_count": 94,
     "metadata": {},
     "output_type": "execute_result"
    }
   ],
   "source": [
    "# Resumen global de estadisticos:\n",
    "data.describe()"
   ]
  },
  {
   "cell_type": "code",
   "execution_count": 95,
   "id": "710cc181-b59b-41ac-8cab-a5d2eb63227e",
   "metadata": {},
   "outputs": [
    {
     "name": "stdout",
     "output_type": "stream",
     "text": [
      "Guardado.\n"
     ]
    }
   ],
   "source": [
    "# Guardamos este DataFrame para su analisis en Power BI.\n",
    "data.to_csv('03_VelMedBajada.csv', index=False)\n",
    "print('Guardado.')"
   ]
  },
  {
   "cell_type": "markdown",
   "id": "58ecc2eb-e444-4f7e-9fb7-d057b651b1ad",
   "metadata": {},
   "source": [
    "# 2) Reclamos"
   ]
  },
  {
   "cell_type": "markdown",
   "id": "7adda4ce-a76a-4f95-aecb-7d6e0b16519b",
   "metadata": {},
   "source": [
    "## Reclamos mensuales por tipo de servicio\n",
    "\n",
    "Extraemos los datos de la API"
   ]
  },
  {
   "cell_type": "code",
   "execution_count": 2,
   "id": "b5901ad0-deb3-4618-a008-727c34fddcda",
   "metadata": {},
   "outputs": [
    {
     "data": {
      "text/html": [
       "<div>\n",
       "<style scoped>\n",
       "    .dataframe tbody tr th:only-of-type {\n",
       "        vertical-align: middle;\n",
       "    }\n",
       "\n",
       "    .dataframe tbody tr th {\n",
       "        vertical-align: top;\n",
       "    }\n",
       "\n",
       "    .dataframe thead th {\n",
       "        text-align: right;\n",
       "    }\n",
       "</style>\n",
       "<table border=\"1\" class=\"dataframe\">\n",
       "  <thead>\n",
       "    <tr style=\"text-align: right;\">\n",
       "      <th></th>\n",
       "      <th>Año</th>\n",
       "      <th>Mes</th>\n",
       "      <th>Telefonía Fija</th>\n",
       "      <th>Internet Fijo</th>\n",
       "      <th>Comunicaciones Moviles</th>\n",
       "      <th>TV por cable</th>\n",
       "      <th>Total mensual</th>\n",
       "    </tr>\n",
       "  </thead>\n",
       "  <tbody>\n",
       "    <tr>\n",
       "      <th>0</th>\n",
       "      <td>2022</td>\n",
       "      <td>1</td>\n",
       "      <td>1.218</td>\n",
       "      <td>675</td>\n",
       "      <td>233</td>\n",
       "      <td>101</td>\n",
       "      <td>2.227</td>\n",
       "    </tr>\n",
       "    <tr>\n",
       "      <th>1</th>\n",
       "      <td>2022</td>\n",
       "      <td>2</td>\n",
       "      <td>1.241</td>\n",
       "      <td>567</td>\n",
       "      <td>238</td>\n",
       "      <td>92</td>\n",
       "      <td>2.138</td>\n",
       "    </tr>\n",
       "    <tr>\n",
       "      <th>2</th>\n",
       "      <td>2022</td>\n",
       "      <td>3</td>\n",
       "      <td>1.689</td>\n",
       "      <td>749</td>\n",
       "      <td>279</td>\n",
       "      <td>150</td>\n",
       "      <td>2.867</td>\n",
       "    </tr>\n",
       "    <tr>\n",
       "      <th>3</th>\n",
       "      <td>2022</td>\n",
       "      <td>4</td>\n",
       "      <td>1.341</td>\n",
       "      <td>635</td>\n",
       "      <td>250</td>\n",
       "      <td>95</td>\n",
       "      <td>2.321</td>\n",
       "    </tr>\n",
       "    <tr>\n",
       "      <th>4</th>\n",
       "      <td>2022</td>\n",
       "      <td>5</td>\n",
       "      <td>1.146</td>\n",
       "      <td>576</td>\n",
       "      <td>295</td>\n",
       "      <td>91</td>\n",
       "      <td>2.108</td>\n",
       "    </tr>\n",
       "    <tr>\n",
       "      <th>5</th>\n",
       "      <td>2022</td>\n",
       "      <td>6</td>\n",
       "      <td>965.000</td>\n",
       "      <td>471</td>\n",
       "      <td>214</td>\n",
       "      <td>80</td>\n",
       "      <td>1.730</td>\n",
       "    </tr>\n",
       "    <tr>\n",
       "      <th>6</th>\n",
       "      <td>2022</td>\n",
       "      <td>7</td>\n",
       "      <td>879.000</td>\n",
       "      <td>499</td>\n",
       "      <td>223</td>\n",
       "      <td>117</td>\n",
       "      <td>1.718</td>\n",
       "    </tr>\n",
       "    <tr>\n",
       "      <th>7</th>\n",
       "      <td>2022</td>\n",
       "      <td>8</td>\n",
       "      <td>914.000</td>\n",
       "      <td>478</td>\n",
       "      <td>302</td>\n",
       "      <td>88</td>\n",
       "      <td>1.782</td>\n",
       "    </tr>\n",
       "    <tr>\n",
       "      <th>8</th>\n",
       "      <td>2022</td>\n",
       "      <td>9</td>\n",
       "      <td>722.000</td>\n",
       "      <td>419</td>\n",
       "      <td>295</td>\n",
       "      <td>100</td>\n",
       "      <td>1.536</td>\n",
       "    </tr>\n",
       "    <tr>\n",
       "      <th>9</th>\n",
       "      <td>2022</td>\n",
       "      <td>10</td>\n",
       "      <td>759.000</td>\n",
       "      <td>434</td>\n",
       "      <td>241</td>\n",
       "      <td>107</td>\n",
       "      <td>1.541</td>\n",
       "    </tr>\n",
       "    <tr>\n",
       "      <th>10</th>\n",
       "      <td>2022</td>\n",
       "      <td>11</td>\n",
       "      <td>757.000</td>\n",
       "      <td>466</td>\n",
       "      <td>226</td>\n",
       "      <td>106</td>\n",
       "      <td>1.555</td>\n",
       "    </tr>\n",
       "  </tbody>\n",
       "</table>\n",
       "</div>"
      ],
      "text/plain": [
       "     Año  Mes  Telefonía Fija  Internet Fijo  Comunicaciones Moviles  \\\n",
       "0   2022    1           1.218            675                     233   \n",
       "1   2022    2           1.241            567                     238   \n",
       "2   2022    3           1.689            749                     279   \n",
       "3   2022    4           1.341            635                     250   \n",
       "4   2022    5           1.146            576                     295   \n",
       "5   2022    6         965.000            471                     214   \n",
       "6   2022    7         879.000            499                     223   \n",
       "7   2022    8         914.000            478                     302   \n",
       "8   2022    9         722.000            419                     295   \n",
       "9   2022   10         759.000            434                     241   \n",
       "10  2022   11         757.000            466                     226   \n",
       "\n",
       "    TV por cable  Total mensual  \n",
       "0            101          2.227  \n",
       "1             92          2.138  \n",
       "2            150          2.867  \n",
       "3             95          2.321  \n",
       "4             91          2.108  \n",
       "5             80          1.730  \n",
       "6            117          1.718  \n",
       "7             88          1.782  \n",
       "8            100          1.536  \n",
       "9            107          1.541  \n",
       "10           106          1.555  "
      ]
     },
     "execution_count": 2,
     "metadata": {},
     "output_type": "execute_result"
    }
   ],
   "source": [
    "# Extraemos datos de la API\n",
    "MY_API_KEY = 'C98wmDseqmuXTUVe7Z297LQBdUXD0yaqXLXJuSoh'\n",
    "url = 'http://api.datosabiertos.enacom.gob.ar/api/v2/datastreams/RECLA-MENSU-POR-TIPO-DE/data.csv/?auth_key=' + MY_API_KEY\n",
    "data = pd.read_csv(url)\n",
    "data"
   ]
  },
  {
   "cell_type": "code",
   "execution_count": 3,
   "id": "7746c3bc-71fe-4dea-a122-ca6e81ca530f",
   "metadata": {},
   "outputs": [
    {
     "data": {
      "text/plain": [
       "<AxesSubplot:>"
      ]
     },
     "execution_count": 3,
     "metadata": {},
     "output_type": "execute_result"
    },
    {
     "data": {
      "image/png": "[encoded data removed]",
      "text/plain": [
       "<Figure size 432x288 with 1 Axes>"
      ]
     },
     "metadata": {
      "needs_background": "light"
     },
     "output_type": "display_data"
    }
   ],
   "source": [
    "# Visualización de valores nulos en el DataFrame\n",
    "sns.heatmap(data.isnull(), yticklabels = False, cbar = False, cmap = 'Blues')"
   ]
  },
  {
   "cell_type": "markdown",
   "id": "d8f87b32-3130-43f9-b202-756e0409b98b",
   "metadata": {},
   "source": [
    "No hay valores nulos."
   ]
  },
  {
   "cell_type": "code",
   "execution_count": 4,
   "id": "258b8907-5288-493a-b151-4dc1c38f87d7",
   "metadata": {},
   "outputs": [
    {
     "data": {
      "text/plain": [
       "Año                         int64\n",
       "Mes                         int64\n",
       "Telefonía Fija            float64\n",
       "Internet Fijo               int64\n",
       "Comunicaciones Moviles      int64\n",
       "TV por cable                int64\n",
       "Total mensual             float64\n",
       "dtype: object"
      ]
     },
     "execution_count": 4,
     "metadata": {},
     "output_type": "execute_result"
    }
   ],
   "source": [
    "# Tipo de variable que tenemos\n",
    "data.dtypes"
   ]
  },
  {
   "cell_type": "markdown",
   "id": "0e9d36e9-e98a-44d6-b1f2-1166878a1765",
   "metadata": {},
   "source": [
    "Observamos que los valores de miles los esta tomando como valores enteros con decimales. Así que vamos a corregir esto."
   ]
  },
  {
   "cell_type": "code",
   "execution_count": 5,
   "id": "6e9212e1-c7a1-4777-8078-76e3c4c5a7d6",
   "metadata": {},
   "outputs": [
    {
     "data": {
      "text/html": [
       "<div>\n",
       "<style scoped>\n",
       "    .dataframe tbody tr th:only-of-type {\n",
       "        vertical-align: middle;\n",
       "    }\n",
       "\n",
       "    .dataframe tbody tr th {\n",
       "        vertical-align: top;\n",
       "    }\n",
       "\n",
       "    .dataframe thead th {\n",
       "        text-align: right;\n",
       "    }\n",
       "</style>\n",
       "<table border=\"1\" class=\"dataframe\">\n",
       "  <thead>\n",
       "    <tr style=\"text-align: right;\">\n",
       "      <th></th>\n",
       "      <th>Año</th>\n",
       "      <th>Mes</th>\n",
       "      <th>Telefonía Fija</th>\n",
       "      <th>Internet Fijo</th>\n",
       "      <th>Comunicaciones Moviles</th>\n",
       "      <th>TV por cable</th>\n",
       "      <th>Total mensual</th>\n",
       "    </tr>\n",
       "  </thead>\n",
       "  <tbody>\n",
       "    <tr>\n",
       "      <th>0</th>\n",
       "      <td>2022</td>\n",
       "      <td>1</td>\n",
       "      <td>1218.0</td>\n",
       "      <td>675</td>\n",
       "      <td>233</td>\n",
       "      <td>101</td>\n",
       "      <td>2227.0</td>\n",
       "    </tr>\n",
       "    <tr>\n",
       "      <th>1</th>\n",
       "      <td>2022</td>\n",
       "      <td>2</td>\n",
       "      <td>1241.0</td>\n",
       "      <td>567</td>\n",
       "      <td>238</td>\n",
       "      <td>92</td>\n",
       "      <td>2138.0</td>\n",
       "    </tr>\n",
       "    <tr>\n",
       "      <th>2</th>\n",
       "      <td>2022</td>\n",
       "      <td>3</td>\n",
       "      <td>1689.0</td>\n",
       "      <td>749</td>\n",
       "      <td>279</td>\n",
       "      <td>150</td>\n",
       "      <td>2867.0</td>\n",
       "    </tr>\n",
       "    <tr>\n",
       "      <th>3</th>\n",
       "      <td>2022</td>\n",
       "      <td>4</td>\n",
       "      <td>1341.0</td>\n",
       "      <td>635</td>\n",
       "      <td>250</td>\n",
       "      <td>95</td>\n",
       "      <td>2321.0</td>\n",
       "    </tr>\n",
       "    <tr>\n",
       "      <th>4</th>\n",
       "      <td>2022</td>\n",
       "      <td>5</td>\n",
       "      <td>1146.0</td>\n",
       "      <td>576</td>\n",
       "      <td>295</td>\n",
       "      <td>91</td>\n",
       "      <td>2108.0</td>\n",
       "    </tr>\n",
       "  </tbody>\n",
       "</table>\n",
       "</div>"
      ],
      "text/plain": [
       "    Año  Mes  Telefonía Fija  Internet Fijo  Comunicaciones Moviles  \\\n",
       "0  2022    1          1218.0            675                     233   \n",
       "1  2022    2          1241.0            567                     238   \n",
       "2  2022    3          1689.0            749                     279   \n",
       "3  2022    4          1341.0            635                     250   \n",
       "4  2022    5          1146.0            576                     295   \n",
       "\n",
       "   TV por cable  Total mensual  \n",
       "0           101         2227.0  \n",
       "1            92         2138.0  \n",
       "2           150         2867.0  \n",
       "3            95         2321.0  \n",
       "4            91         2108.0  "
      ]
     },
     "execution_count": 5,
     "metadata": {},
     "output_type": "execute_result"
    }
   ],
   "source": [
    "# Corregimos el punto decimal para las columnas 'Telefonía Fija' y 'Total mensual':\n",
    "data['Telefonía Fija'] = data[['Telefonía Fija']].apply(lambda x: x['Telefonía Fija']*1000 \n",
    "                                                        if x['Telefonía Fija']-int(x['Telefonía Fija'])!=0 \n",
    "                                                        else x['Telefonía Fija'], \n",
    "                                                        axis=1)\n",
    "\n",
    "data['Total mensual'] = data[['Total mensual']].apply(lambda x: x['Total mensual']*1000 \n",
    "                                                        if x['Total mensual']-int(x['Total mensual'])!=0 \n",
    "                                                        else x['Total mensual'], \n",
    "                                                        axis=1)\n",
    "# Pasamos a tipo Int64\n",
    "data.head()"
   ]
  },
  {
   "cell_type": "code",
   "execution_count": 6,
   "id": "8fcad205-62f7-4bc8-bf22-a18f21282c03",
   "metadata": {},
   "outputs": [
    {
     "data": {
      "text/plain": [
       "Año                         int64\n",
       "Mes                         int64\n",
       "Telefonía Fija            float64\n",
       "Internet Fijo               int64\n",
       "Comunicaciones Moviles      int64\n",
       "TV por cable                int64\n",
       "Total mensual             float64\n",
       "dtype: object"
      ]
     },
     "execution_count": 6,
     "metadata": {},
     "output_type": "execute_result"
    }
   ],
   "source": [
    "# Tipo de variable corregidas\n",
    "data.dtypes"
   ]
  },
  {
   "cell_type": "code",
   "execution_count": 7,
   "id": "3efabe11-a038-4ee5-928f-1c638cb93bfa",
   "metadata": {},
   "outputs": [
    {
     "data": {
      "text/plain": [
       "array([[<AxesSubplot:title={'center':'Año'}>,\n",
       "        <AxesSubplot:title={'center':'Mes'}>,\n",
       "        <AxesSubplot:title={'center':'Telefonía Fija'}>],\n",
       "       [<AxesSubplot:title={'center':'Internet Fijo'}>,\n",
       "        <AxesSubplot:title={'center':'Comunicaciones Moviles'}>,\n",
       "        <AxesSubplot:title={'center':'TV por cable'}>],\n",
       "       [<AxesSubplot:title={'center':'Total mensual'}>, <AxesSubplot:>,\n",
       "        <AxesSubplot:>]], dtype=object)"
      ]
     },
     "execution_count": 7,
     "metadata": {},
     "output_type": "execute_result"
    },
    {
     "data": {
      "image/png": "[encoded data removed]",
      "text/plain": [
       "<Figure size 1800x720 with 9 Axes>"
      ]
     },
     "metadata": {
      "needs_background": "light"
     },
     "output_type": "display_data"
    }
   ],
   "source": [
    "# Análisis rápido de las categorías usando un histograma.\n",
    "data.hist(bins = 50, figsize = (25,10), color = 'b')"
   ]
  },
  {
   "cell_type": "markdown",
   "id": "b5e07a25-9349-40ce-9e30-ccd6268d0e48",
   "metadata": {},
   "source": [
    "**Año**: Solo hay datos del año 2022.\n",
    "\n",
    "**Telefonía Fija**: Presenta una distribución sesgada a la izquierda, con una media de 1057 reclamos mensuales. \n",
    "\n",
    "**Internet Fijo**: Presenta una distribución sesgada a la izquierda, con una media de 542 reclamos mensuales.\n",
    "\n",
    "**Comunicaciones Moviles**: Presenta una distribución sesgada a la derecha, con una media de 254 reclamos mensuales. \n",
    "\n",
    "**TV por cable**: Presenta una tendencia uniforme, con una media de 102 reclamos mensuales. \n",
    "\n",
    "**Total mensual**: Presenta una distribución sesgada a la izquierda, con una media de 1956 reclamos mensuales."
   ]
  },
  {
   "cell_type": "code",
   "execution_count": 8,
   "id": "f019e9bb-9256-45c4-a95c-4ea3f0f0c964",
   "metadata": {},
   "outputs": [
    {
     "data": {
      "text/html": [
       "<div>\n",
       "<style scoped>\n",
       "    .dataframe tbody tr th:only-of-type {\n",
       "        vertical-align: middle;\n",
       "    }\n",
       "\n",
       "    .dataframe tbody tr th {\n",
       "        vertical-align: top;\n",
       "    }\n",
       "\n",
       "    .dataframe thead th {\n",
       "        text-align: right;\n",
       "    }\n",
       "</style>\n",
       "<table border=\"1\" class=\"dataframe\">\n",
       "  <thead>\n",
       "    <tr style=\"text-align: right;\">\n",
       "      <th></th>\n",
       "      <th>Año</th>\n",
       "      <th>Mes</th>\n",
       "      <th>Telefonía Fija</th>\n",
       "      <th>Internet Fijo</th>\n",
       "      <th>Comunicaciones Moviles</th>\n",
       "      <th>TV por cable</th>\n",
       "      <th>Total mensual</th>\n",
       "    </tr>\n",
       "  </thead>\n",
       "  <tbody>\n",
       "    <tr>\n",
       "      <th>count</th>\n",
       "      <td>11.0</td>\n",
       "      <td>11.000000</td>\n",
       "      <td>11.000000</td>\n",
       "      <td>11.000000</td>\n",
       "      <td>11.000000</td>\n",
       "      <td>11.000000</td>\n",
       "      <td>11.000000</td>\n",
       "    </tr>\n",
       "    <tr>\n",
       "      <th>mean</th>\n",
       "      <td>2022.0</td>\n",
       "      <td>6.000000</td>\n",
       "      <td>1057.363636</td>\n",
       "      <td>542.636364</td>\n",
       "      <td>254.181818</td>\n",
       "      <td>102.454545</td>\n",
       "      <td>1956.636364</td>\n",
       "    </tr>\n",
       "    <tr>\n",
       "      <th>std</th>\n",
       "      <td>0.0</td>\n",
       "      <td>3.316625</td>\n",
       "      <td>299.900408</td>\n",
       "      <td>107.013338</td>\n",
       "      <td>32.430906</td>\n",
       "      <td>18.768930</td>\n",
       "      <td>417.160946</td>\n",
       "    </tr>\n",
       "    <tr>\n",
       "      <th>min</th>\n",
       "      <td>2022.0</td>\n",
       "      <td>1.000000</td>\n",
       "      <td>722.000000</td>\n",
       "      <td>419.000000</td>\n",
       "      <td>214.000000</td>\n",
       "      <td>80.000000</td>\n",
       "      <td>1536.000000</td>\n",
       "    </tr>\n",
       "    <tr>\n",
       "      <th>25%</th>\n",
       "      <td>2022.0</td>\n",
       "      <td>3.500000</td>\n",
       "      <td>819.000000</td>\n",
       "      <td>468.500000</td>\n",
       "      <td>229.500000</td>\n",
       "      <td>91.500000</td>\n",
       "      <td>1636.500000</td>\n",
       "    </tr>\n",
       "    <tr>\n",
       "      <th>50%</th>\n",
       "      <td>2022.0</td>\n",
       "      <td>6.000000</td>\n",
       "      <td>965.000000</td>\n",
       "      <td>499.000000</td>\n",
       "      <td>241.000000</td>\n",
       "      <td>100.000000</td>\n",
       "      <td>1782.000000</td>\n",
       "    </tr>\n",
       "    <tr>\n",
       "      <th>75%</th>\n",
       "      <td>2022.0</td>\n",
       "      <td>8.500000</td>\n",
       "      <td>1229.500000</td>\n",
       "      <td>605.500000</td>\n",
       "      <td>287.000000</td>\n",
       "      <td>106.500000</td>\n",
       "      <td>2182.500000</td>\n",
       "    </tr>\n",
       "    <tr>\n",
       "      <th>max</th>\n",
       "      <td>2022.0</td>\n",
       "      <td>11.000000</td>\n",
       "      <td>1689.000000</td>\n",
       "      <td>749.000000</td>\n",
       "      <td>302.000000</td>\n",
       "      <td>150.000000</td>\n",
       "      <td>2867.000000</td>\n",
       "    </tr>\n",
       "  </tbody>\n",
       "</table>\n",
       "</div>"
      ],
      "text/plain": [
       "          Año        Mes  Telefonía Fija  Internet Fijo  \\\n",
       "count    11.0  11.000000       11.000000      11.000000   \n",
       "mean   2022.0   6.000000     1057.363636     542.636364   \n",
       "std       0.0   3.316625      299.900408     107.013338   \n",
       "min    2022.0   1.000000      722.000000     419.000000   \n",
       "25%    2022.0   3.500000      819.000000     468.500000   \n",
       "50%    2022.0   6.000000      965.000000     499.000000   \n",
       "75%    2022.0   8.500000     1229.500000     605.500000   \n",
       "max    2022.0  11.000000     1689.000000     749.000000   \n",
       "\n",
       "       Comunicaciones Moviles  TV por cable  Total mensual  \n",
       "count               11.000000     11.000000      11.000000  \n",
       "mean               254.181818    102.454545    1956.636364  \n",
       "std                 32.430906     18.768930     417.160946  \n",
       "min                214.000000     80.000000    1536.000000  \n",
       "25%                229.500000     91.500000    1636.500000  \n",
       "50%                241.000000    100.000000    1782.000000  \n",
       "75%                287.000000    106.500000    2182.500000  \n",
       "max                302.000000    150.000000    2867.000000  "
      ]
     },
     "execution_count": 8,
     "metadata": {},
     "output_type": "execute_result"
    }
   ],
   "source": [
    "# Resumen global de estadisticos:\n",
    "data.describe()"
   ]
  },
  {
   "cell_type": "code",
   "execution_count": 9,
   "id": "9505e9fa-2396-4e4a-85a5-a8372ce9eb87",
   "metadata": {},
   "outputs": [
    {
     "name": "stdout",
     "output_type": "stream",
     "text": [
      "Guardado.\n"
     ]
    }
   ],
   "source": [
    "# Guardamos este DataFrame para su analisis en Power BI.\n",
    "data.to_csv('ReclamosMesTipoServ.csv', index=False)\n",
    "print('Guardado.')"
   ]
  },
  {
   "cell_type": "markdown",
   "id": "eadda192-7235-4baa-8b4d-921f94aa7e97",
   "metadata": {},
   "source": [
    "## Reclamos por operador y motivo de reclamo"
   ]
  },
  {
   "cell_type": "code",
   "execution_count": 10,
   "id": "35f07e90-4fd3-482b-85b3-ad2cf0fe1b9a",
   "metadata": {},
   "outputs": [
    {
     "data": {
      "text/html": [
       "<div>\n",
       "<style scoped>\n",
       "    .dataframe tbody tr th:only-of-type {\n",
       "        vertical-align: middle;\n",
       "    }\n",
       "\n",
       "    .dataframe tbody tr th {\n",
       "        vertical-align: top;\n",
       "    }\n",
       "\n",
       "    .dataframe thead th {\n",
       "        text-align: right;\n",
       "    }\n",
       "</style>\n",
       "<table border=\"1\" class=\"dataframe\">\n",
       "  <thead>\n",
       "    <tr style=\"text-align: right;\">\n",
       "      <th></th>\n",
       "      <th>Año</th>\n",
       "      <th>Mes</th>\n",
       "      <th>Motivo de Reclamo</th>\n",
       "      <th>Operador</th>\n",
       "      <th>Cantidad</th>\n",
       "    </tr>\n",
       "  </thead>\n",
       "  <tbody>\n",
       "    <tr>\n",
       "      <th>0</th>\n",
       "      <td>2022</td>\n",
       "      <td>1</td>\n",
       "      <td>Facturación</td>\n",
       "      <td>AMX Argentina S.A. (Claro)</td>\n",
       "      <td>9</td>\n",
       "    </tr>\n",
       "    <tr>\n",
       "      <th>1</th>\n",
       "      <td>2022</td>\n",
       "      <td>1</td>\n",
       "      <td>Facturación</td>\n",
       "      <td>DIRECTV Argentina S.A.L</td>\n",
       "      <td>4</td>\n",
       "    </tr>\n",
       "    <tr>\n",
       "      <th>2</th>\n",
       "      <td>2022</td>\n",
       "      <td>1</td>\n",
       "      <td>Facturación</td>\n",
       "      <td>Fibertel S.A. (TCI)</td>\n",
       "      <td>3</td>\n",
       "    </tr>\n",
       "    <tr>\n",
       "      <th>3</th>\n",
       "      <td>2022</td>\n",
       "      <td>1</td>\n",
       "      <td>Facturación</td>\n",
       "      <td>Movistar - Telefonica Moviles Argentina S.A.</td>\n",
       "      <td>23</td>\n",
       "    </tr>\n",
       "    <tr>\n",
       "      <th>4</th>\n",
       "      <td>2022</td>\n",
       "      <td>1</td>\n",
       "      <td>Facturación</td>\n",
       "      <td>Otros</td>\n",
       "      <td>8</td>\n",
       "    </tr>\n",
       "    <tr>\n",
       "      <th>...</th>\n",
       "      <td>...</td>\n",
       "      <td>...</td>\n",
       "      <td>...</td>\n",
       "      <td>...</td>\n",
       "      <td>...</td>\n",
       "    </tr>\n",
       "    <tr>\n",
       "      <th>381</th>\n",
       "      <td>2022</td>\n",
       "      <td>11</td>\n",
       "      <td>Problemas Técnicos</td>\n",
       "      <td>Otros</td>\n",
       "      <td>51</td>\n",
       "    </tr>\n",
       "    <tr>\n",
       "      <th>382</th>\n",
       "      <td>2022</td>\n",
       "      <td>11</td>\n",
       "      <td>Problemas Técnicos</td>\n",
       "      <td>TELECENTRO S.A.</td>\n",
       "      <td>45</td>\n",
       "    </tr>\n",
       "    <tr>\n",
       "      <th>383</th>\n",
       "      <td>2022</td>\n",
       "      <td>11</td>\n",
       "      <td>Problemas Técnicos</td>\n",
       "      <td>Telecom Argentina S.A.</td>\n",
       "      <td>506</td>\n",
       "    </tr>\n",
       "    <tr>\n",
       "      <th>384</th>\n",
       "      <td>2022</td>\n",
       "      <td>11</td>\n",
       "      <td>Problemas Técnicos</td>\n",
       "      <td>Telefonica de Argentina S.A.</td>\n",
       "      <td>197</td>\n",
       "    </tr>\n",
       "    <tr>\n",
       "      <th>385</th>\n",
       "      <td>2022</td>\n",
       "      <td>11</td>\n",
       "      <td>Problemas Técnicos</td>\n",
       "      <td>TELMEX Argentina S.A.</td>\n",
       "      <td>1</td>\n",
       "    </tr>\n",
       "  </tbody>\n",
       "</table>\n",
       "<p>386 rows × 5 columns</p>\n",
       "</div>"
      ],
      "text/plain": [
       "      Año  Mes   Motivo de Reclamo  \\\n",
       "0    2022    1         Facturación   \n",
       "1    2022    1         Facturación   \n",
       "2    2022    1         Facturación   \n",
       "3    2022    1         Facturación   \n",
       "4    2022    1         Facturación   \n",
       "..    ...  ...                 ...   \n",
       "381  2022   11  Problemas Técnicos   \n",
       "382  2022   11  Problemas Técnicos   \n",
       "383  2022   11  Problemas Técnicos   \n",
       "384  2022   11  Problemas Técnicos   \n",
       "385  2022   11  Problemas Técnicos   \n",
       "\n",
       "                                         Operador  Cantidad  \n",
       "0                      AMX Argentina S.A. (Claro)         9  \n",
       "1                         DIRECTV Argentina S.A.L         4  \n",
       "2                             Fibertel S.A. (TCI)         3  \n",
       "3    Movistar - Telefonica Moviles Argentina S.A.        23  \n",
       "4                                           Otros         8  \n",
       "..                                            ...       ...  \n",
       "381                                         Otros        51  \n",
       "382                               TELECENTRO S.A.        45  \n",
       "383                        Telecom Argentina S.A.       506  \n",
       "384                  Telefonica de Argentina S.A.       197  \n",
       "385                         TELMEX Argentina S.A.         1  \n",
       "\n",
       "[386 rows x 5 columns]"
      ]
     },
     "execution_count": 10,
     "metadata": {},
     "output_type": "execute_result"
    }
   ],
   "source": [
    "# Extraemos datos de la API\n",
    "MY_API_KEY = 'C98wmDseqmuXTUVe7Z297LQBdUXD0yaqXLXJuSoh'\n",
    "url = 'http://api.datosabiertos.enacom.gob.ar/api/v2/datastreams/RECLA-POR-OPERA-ANO-CORRI/data.csv/?auth_key=' + MY_API_KEY\n",
    "data = pd.read_csv(url)\n",
    "data"
   ]
  },
  {
   "cell_type": "code",
   "execution_count": 11,
   "id": "11f308be-08e6-4f7b-afb5-9778822e61a2",
   "metadata": {},
   "outputs": [
    {
     "data": {
      "text/plain": [
       "<AxesSubplot:>"
      ]
     },
     "execution_count": 11,
     "metadata": {},
     "output_type": "execute_result"
    },
    {
     "data": {
      "image/png": "[encoded data removed]",
      "text/plain": [
       "<Figure size 432x288 with 1 Axes>"
      ]
     },
     "metadata": {
      "needs_background": "light"
     },
     "output_type": "display_data"
    }
   ],
   "source": [
    "# Visualización de valores nulos en el DataFrame\n",
    "sns.heatmap(data.isnull(), yticklabels = False, cbar = False, cmap = 'Blues')"
   ]
  },
  {
   "cell_type": "markdown",
   "id": "7b665568-45f1-4055-84c5-729f2a2981ba",
   "metadata": {},
   "source": [
    "No cuenta con valores nulos."
   ]
  },
  {
   "cell_type": "code",
   "execution_count": 12,
   "id": "232980e9-dbb5-41a6-a86a-6985cf636438",
   "metadata": {},
   "outputs": [
    {
     "data": {
      "text/plain": [
       "Año                   int64\n",
       "Mes                   int64\n",
       "Motivo de Reclamo    object\n",
       "Operador             object\n",
       "Cantidad              int64\n",
       "dtype: object"
      ]
     },
     "execution_count": 12,
     "metadata": {},
     "output_type": "execute_result"
    }
   ],
   "source": [
    "# Tipo de variable que tenemos\n",
    "data.dtypes"
   ]
  },
  {
   "cell_type": "code",
   "execution_count": 13,
   "id": "30cced30-de0f-4980-9be0-76a60ed82bfc",
   "metadata": {},
   "outputs": [
    {
     "data": {
      "text/plain": [
       "array([[<AxesSubplot:title={'center':'Año'}>,\n",
       "        <AxesSubplot:title={'center':'Mes'}>],\n",
       "       [<AxesSubplot:title={'center':'Cantidad'}>, <AxesSubplot:>]],\n",
       "      dtype=object)"
      ]
     },
     "execution_count": 13,
     "metadata": {},
     "output_type": "execute_result"
    },
    {
     "data": {
      "image/png": "[encoded data removed]",
      "text/plain": [
       "<Figure size 1800x720 with 4 Axes>"
      ]
     },
     "metadata": {
      "needs_background": "light"
     },
     "output_type": "display_data"
    }
   ],
   "source": [
    "# Análisis rápido de las categorías usando un histograma.\n",
    "data.hist(bins = 50, figsize = (25,10), color = 'b')"
   ]
  },
  {
   "cell_type": "markdown",
   "id": "e49e3c9c-3c54-4d24-a0ce-27a2d816c0cd",
   "metadata": {},
   "source": [
    "**Año**: Solo hay datos del año 2022.\n",
    "\n",
    "**Cantidad**: Presenta una distribución sesgada a la izquierda, con una media de 56 reclamos por operador mensuales. "
   ]
  },
  {
   "cell_type": "code",
   "execution_count": 14,
   "id": "518d66d0-c1dd-40e6-8b09-bab0583bc0d5",
   "metadata": {},
   "outputs": [
    {
     "data": {
      "text/html": [
       "<div>\n",
       "<style scoped>\n",
       "    .dataframe tbody tr th:only-of-type {\n",
       "        vertical-align: middle;\n",
       "    }\n",
       "\n",
       "    .dataframe tbody tr th {\n",
       "        vertical-align: top;\n",
       "    }\n",
       "\n",
       "    .dataframe thead th {\n",
       "        text-align: right;\n",
       "    }\n",
       "</style>\n",
       "<table border=\"1\" class=\"dataframe\">\n",
       "  <thead>\n",
       "    <tr style=\"text-align: right;\">\n",
       "      <th></th>\n",
       "      <th>Año</th>\n",
       "      <th>Mes</th>\n",
       "      <th>Cantidad</th>\n",
       "    </tr>\n",
       "  </thead>\n",
       "  <tbody>\n",
       "    <tr>\n",
       "      <th>count</th>\n",
       "      <td>386.0</td>\n",
       "      <td>386.000000</td>\n",
       "      <td>386.000000</td>\n",
       "    </tr>\n",
       "    <tr>\n",
       "      <th>mean</th>\n",
       "      <td>2022.0</td>\n",
       "      <td>5.976684</td>\n",
       "      <td>55.759067</td>\n",
       "    </tr>\n",
       "    <tr>\n",
       "      <th>std</th>\n",
       "      <td>0.0</td>\n",
       "      <td>3.117937</td>\n",
       "      <td>124.230354</td>\n",
       "    </tr>\n",
       "    <tr>\n",
       "      <th>min</th>\n",
       "      <td>2022.0</td>\n",
       "      <td>1.000000</td>\n",
       "      <td>1.000000</td>\n",
       "    </tr>\n",
       "    <tr>\n",
       "      <th>25%</th>\n",
       "      <td>2022.0</td>\n",
       "      <td>3.000000</td>\n",
       "      <td>5.000000</td>\n",
       "    </tr>\n",
       "    <tr>\n",
       "      <th>50%</th>\n",
       "      <td>2022.0</td>\n",
       "      <td>6.000000</td>\n",
       "      <td>15.000000</td>\n",
       "    </tr>\n",
       "    <tr>\n",
       "      <th>75%</th>\n",
       "      <td>2022.0</td>\n",
       "      <td>9.000000</td>\n",
       "      <td>41.000000</td>\n",
       "    </tr>\n",
       "    <tr>\n",
       "      <th>max</th>\n",
       "      <td>2022.0</td>\n",
       "      <td>11.000000</td>\n",
       "      <td>964.000000</td>\n",
       "    </tr>\n",
       "  </tbody>\n",
       "</table>\n",
       "</div>"
      ],
      "text/plain": [
       "          Año         Mes    Cantidad\n",
       "count   386.0  386.000000  386.000000\n",
       "mean   2022.0    5.976684   55.759067\n",
       "std       0.0    3.117937  124.230354\n",
       "min    2022.0    1.000000    1.000000\n",
       "25%    2022.0    3.000000    5.000000\n",
       "50%    2022.0    6.000000   15.000000\n",
       "75%    2022.0    9.000000   41.000000\n",
       "max    2022.0   11.000000  964.000000"
      ]
     },
     "execution_count": 14,
     "metadata": {},
     "output_type": "execute_result"
    }
   ],
   "source": [
    "# Resumen global de estadisticos:\n",
    "data.describe()"
   ]
  },
  {
   "cell_type": "code",
   "execution_count": 15,
   "id": "e0d68b45-3767-4d26-a2ae-b01866536d8d",
   "metadata": {},
   "outputs": [
    {
     "name": "stdout",
     "output_type": "stream",
     "text": [
      "Guardado.\n"
     ]
    }
   ],
   "source": [
    "# Guardamos este DataFrame para su analisis en Power BI.\n",
    "data.to_csv('ReclamosMesOper.csv', index=False)\n",
    "print('Guardado.')"
   ]
  },
  {
   "cell_type": "code",
   "execution_count": null,
   "id": "5a199e31-a15b-4d4b-bd3d-a43bb9f1d863",
   "metadata": {},
   "outputs": [],
   "source": []
  }
 ],
 "metadata": {
  "kernelspec": {
   "display_name": "Python 3 (ipykernel)",
   "language": "python",
   "name": "python3"
  },
  "language_info": {
   "codemirror_mode": {
    "name": "ipython",
    "version": 3
   },
   "file_extension": ".py",
   "mimetype": "text/x-python",
   "name": "python",
   "nbconvert_exporter": "python",
   "pygments_lexer": "ipython3",
   "version": "3.9.12"
  }
 },
 "nbformat": 4,
 "nbformat_minor": 5
}
